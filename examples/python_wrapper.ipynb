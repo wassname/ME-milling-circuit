{
 "cells": [
  {
   "cell_type": "markdown",
   "metadata": {},
   "source": [
    "## Setup\n",
    "\n",
    "- https://au.mathworks.com/help/matlab/matlab_external/install-the-matlab-engine-for-python.html\n",
    "    - `cd D:\\WinOpt\\matlab2017b\\extern\\engines\\python`\n",
    "    - `python setup.py install`"
   ]
  },
  {
   "cell_type": "code",
   "execution_count": 1,
   "metadata": {},
   "outputs": [
    {
     "data": {
      "text/plain": [
       "1.5491933384829668"
      ]
     },
     "execution_count": 1,
     "metadata": {},
     "output_type": "execute_result"
    }
   ],
   "source": [
    "import matlab.engine\n",
    "# eng = matlab.engine.start_matlab()\n",
    "# eng.sqrt(2.4)"
   ]
  },
  {
   "cell_type": "code",
   "execution_count": 2,
   "metadata": {},
   "outputs": [
    {
     "data": {
      "text/plain": [
       "1.5491933384829668"
      ]
     },
     "execution_count": 2,
     "metadata": {},
     "output_type": "execute_result"
    }
   ],
   "source": [
    "eng = matlab.engine.connect_matlab(name=None)\n",
    "eng.sqrt(2.4)\n",
    "# eng.sim('MillCircuit')\n",
    "# eng.run('main.m', nargout=0)"
   ]
  },
  {
   "cell_type": "code",
   "execution_count": 4,
   "metadata": {},
   "outputs": [],
   "source": [
    "# TODO make a step function, that returns data\n",
    "# TODO wrap in gym\n",
    "# run!"
   ]
  },
  {
   "cell_type": "code",
   "execution_count": 10,
   "metadata": {},
   "outputs": [],
   "source": [
    "# eng.run('gym_start.m', nargout=0)"
   ]
  },
  {
   "cell_type": "code",
   "execution_count": 13,
   "metadata": {},
   "outputs": [
    {
     "data": {
      "text/plain": [
       "{'control_system': {'JT_SP': 0.07723076923076923,\n",
       "  'K1': 20.0,\n",
       "  'K2': 42.1,\n",
       "  'K3': 928.6,\n",
       "  'PSE_SP': 0.67,\n",
       "  'SVOL_SP': 5.99,\n",
       "  'TI1': 0.25,\n",
       "  'TI2': 9.46,\n",
       "  'TI3': 4.54,\n",
       "  'tauf1': 0.02,\n",
       "  'tauf2': 0.02,\n",
       "  'tauf3': 0.02},\n",
       " 'faults': {'PSE_sensor': 0.0,\n",
       "  'PSE_sensor_bias': -0.05,\n",
       "  'PSE_time_off': 458.0,\n",
       "  'PSE_time_on': 458.0,\n",
       "  'liner': 0.0,\n",
       "  'liner_powerloss': 0.15,\n",
       "  'liner_powerloss_gradient': 0.001388888888888889,\n",
       "  'liner_time_off': 458.0,\n",
       "  'liner_time_on': 458.0},\n",
       " 'initial_state': {'CFD': 1.6863,\n",
       "  'CFF': 374.0,\n",
       "  'JT': 0.07723076923076923,\n",
       "  'MFB': 5.69,\n",
       "  'MFS': 65.2,\n",
       "  'MIW': 4.64,\n",
       "  'PSE': 0.67,\n",
       "  'Pmill': 1183.0,\n",
       "  'SFW': 140.5,\n",
       "  'Xmbs': 8.51,\n",
       "  'Xmfs': 1.09,\n",
       "  'Xmrs': 1.82,\n",
       "  'Xmss': 4.9,\n",
       "  'Xmws': 4.85,\n",
       "  'Xsfs': 0.42,\n",
       "  'Xsss': 1.88,\n",
       "  'Xsws': 4.11},\n",
       " 'model_params': {'Asump': 3.5200000000000005,\n",
       "  'C1': 0.6,\n",
       "  'C2': 0.7,\n",
       "  'C3': 4.0,\n",
       "  'C4': 4.0,\n",
       "  'DB': 5.1,\n",
       "  'DS': 2.5,\n",
       "  'P_max': 2332.1,\n",
       "  'SVOL': 5.99,\n",
       "  'V_V': 84.0,\n",
       "  'alpha_P': 1.0,\n",
       "  'alpha_f': 0.055,\n",
       "  'alpha_phif': 0.01,\n",
       "  'alpha_r': 0.465,\n",
       "  'alpha_speed': 0.74,\n",
       "  'alpha_su': 0.87,\n",
       "  'chi_P': 0.0,\n",
       "  'delta_Ps': 0.5,\n",
       "  'delta_Pv': 0.5,\n",
       "  'eps_c': 129.0,\n",
       "  'eps_sv': 0.6,\n",
       "  'phi_b': 90.0,\n",
       "  'phi_f': 29.6,\n",
       "  'phi_r': 6.03,\n",
       "  'rhe_Pmax': 0.57,\n",
       "  'v_Pmax': 0.34,\n",
       "  'v_mill': 260.0},\n",
       " 'process_noise': {'LB_MFB': 5.4055,\n",
       "  'LB_MIW': 4.4079999999999995,\n",
       "  'LB_alpha_r': 0.41850000000000004,\n",
       "  'LB_alpha_speed': 0.703,\n",
       "  'LB_phi_f': 28.12,\n",
       "  'UB_MFB': 5.974500000000001,\n",
       "  'UB_MIW': 4.872,\n",
       "  'UB_alpha_r': 0.5115000000000001,\n",
       "  'UB_alpha_speed': 0.777,\n",
       "  'UB_phi_f': 31.080000000000002,\n",
       "  'gradient_MFB': 0.0,\n",
       "  'gradient_MIW': 0.0,\n",
       "  'gradient_alpha_r': 0.002,\n",
       "  'gradient_alpha_speed': 0.0,\n",
       "  'gradient_phi_f': 0.2,\n",
       "  'sample_MFB': 1.0,\n",
       "  'sample_MIW': 0.5,\n",
       "  'sample_alpha_r': 2.5,\n",
       "  'sample_alpha_speed': 0.5,\n",
       "  'sample_phi_f': 1.0,\n",
       "  'seed_MFB': 71.0,\n",
       "  'seed_MIW': 56.0,\n",
       "  'seed_alpha_r': 30.0,\n",
       "  'seed_alpha_speed': 52.0,\n",
       "  'seed_phi_f': 90.0,\n",
       "  'time_off': 458.0,\n",
       "  'time_on': 50.0},\n",
       " 'sensor_noise': {'delay_JT': 0.016666666666666666,\n",
       "  'delay_PSE': 0.016666666666666666,\n",
       "  'delay_phi_f': 0.016666666666666666,\n",
       "  'global_frac': 0.01,\n",
       "  'seed_CFD': 3.0,\n",
       "  'seed_CFF': 68.0,\n",
       "  'seed_JT': 46.0,\n",
       "  'seed_MFB': 21.0,\n",
       "  'seed_MFS': 13.0,\n",
       "  'seed_MIW': 90.0,\n",
       "  'seed_PSE': 56.0,\n",
       "  'seed_Pmill': 65.0,\n",
       "  'seed_SFW': 28.0,\n",
       "  'seed_SVOL': 60.0,\n",
       "  'seed_alpha_r': 6.0,\n",
       "  'seed_alpha_speed': 3.0,\n",
       "  'seed_phi_f': 45.0,\n",
       "  'time_off': 458.0,\n",
       "  'time_on': 50.0},\n",
       " 'simulation': {'errortol': 1e-05,\n",
       "  'sampling': 0.008333333333333333,\n",
       "  'stoptime': 458.0}}"
      ]
     },
     "execution_count": 13,
     "metadata": {},
     "output_type": "execute_result"
    }
   ],
   "source": [
    "options = eng.gym_start()\n",
    "options"
   ]
  },
  {
   "cell_type": "code",
   "execution_count": 21,
   "metadata": {},
   "outputs": [
    {
     "data": {
      "text/plain": [
       "{'CFD': 1.5134122702839152,\n",
       " 'CFF': 298.05832905837985,\n",
       " 'JT': 0.08363307349613791,\n",
       " 'MFB': 5.69,\n",
       " 'MFS': 65.94022751662939,\n",
       " 'MIW': 4.64,\n",
       " 'PSE': 0.6754258476266642,\n",
       " 'Pmill': 1233.9684259005653,\n",
       " 'RAW_CFD': 1.5134122702839152,\n",
       " 'RAW_CFF': 298.05832905837985,\n",
       " 'RAW_JT': 0.08363307349613791,\n",
       " 'RAW_MFB': 5.69,\n",
       " 'RAW_MFS': 65.94022751662939,\n",
       " 'RAW_MIW': 4.64,\n",
       " 'RAW_PSE': 0.6754258476266642,\n",
       " 'RAW_Pmill': 1233.9684259005653,\n",
       " 'RAW_SFW': 97.6490371144148,\n",
       " 'RAW_SVOL': 6.117555862846649,\n",
       " 'RAW_alpha_r': 0.47750000000000437,\n",
       " 'RAW_alpha_speed': 0.74,\n",
       " 'RAW_phi_f': 30.480000000000114,\n",
       " 'SFW': 97.6490371144148,\n",
       " 'SVOL': 6.117555862846649,\n",
       " 'alpha_r': 0.47750000000000437,\n",
       " 'alpha_speed': 0.74,\n",
       " 'phi_f': 30.480000000000114,\n",
       " 'time': 458.0}"
      ]
     },
     "execution_count": 21,
     "metadata": {},
     "output_type": "execute_result"
    }
   ],
   "source": [
    "res = eng.gym_step(options, 3)\n",
    "res"
   ]
  },
  {
   "cell_type": "code",
   "execution_count": 20,
   "metadata": {},
   "outputs": [
    {
     "data": {
      "text/plain": [
       "{'CFD': 1.5134122702839152,\n",
       " 'CFF': 298.05832905837985,\n",
       " 'JT': 0.08363307349613791,\n",
       " 'MFB': 5.69,\n",
       " 'MFS': 65.94022751662939,\n",
       " 'MIW': 4.64,\n",
       " 'PSE': 0.6754258476266642,\n",
       " 'Pmill': 1233.9684259005653,\n",
       " 'RAW_CFD': 1.5134122702839152,\n",
       " 'RAW_CFF': 298.05832905837985,\n",
       " 'RAW_JT': 0.08363307349613791,\n",
       " 'RAW_MFB': 5.69,\n",
       " 'RAW_MFS': 65.94022751662939,\n",
       " 'RAW_MIW': 4.64,\n",
       " 'RAW_PSE': 0.6754258476266642,\n",
       " 'RAW_Pmill': 1233.9684259005653,\n",
       " 'RAW_SFW': 97.6490371144148,\n",
       " 'RAW_SVOL': 6.117555862846649,\n",
       " 'RAW_alpha_r': 0.47750000000000437,\n",
       " 'RAW_alpha_speed': 0.74,\n",
       " 'RAW_phi_f': 30.480000000000114,\n",
       " 'SFW': 97.6490371144148,\n",
       " 'SVOL': 6.117555862846649,\n",
       " 'alpha_r': 0.47750000000000437,\n",
       " 'alpha_speed': 0.74,\n",
       " 'phi_f': 30.480000000000114,\n",
       " 'time': 458.0}"
      ]
     },
     "execution_count": 20,
     "metadata": {},
     "output_type": "execute_result"
    }
   ],
   "source": [
    "res = eng.gym_step(options)\n",
    "res"
   ]
  },
  {
   "cell_type": "code",
   "execution_count": null,
   "metadata": {},
   "outputs": [],
   "source": []
  }
 ],
 "metadata": {
  "kernelspec": {
   "display_name": "Python 3",
   "language": "python",
   "name": "python3"
  },
  "language_info": {
   "codemirror_mode": {
    "name": "ipython",
    "version": 3
   },
   "file_extension": ".py",
   "mimetype": "text/x-python",
   "name": "python",
   "nbconvert_exporter": "python",
   "pygments_lexer": "ipython3",
   "version": "3.6.4"
  }
 },
 "nbformat": 4,
 "nbformat_minor": 2
}
